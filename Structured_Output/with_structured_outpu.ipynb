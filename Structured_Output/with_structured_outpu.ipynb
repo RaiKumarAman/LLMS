{
 "cells": [
  {
   "cell_type": "code",
   "execution_count": 2,
   "id": "517157a6",
   "metadata": {},
   "outputs": [],
   "source": [
    "from langchain_google_genai import ChatGoogleGenerativeAI\n",
    "from dotenv import load_dotenv\n",
    "load_dotenv()\n",
    "\n",
    "model=model=ChatGoogleGenerativeAI(model='gemini-1.5-flash-latest', temperature=0)\n",
    "\n"
   ]
  },
  {
   "cell_type": "markdown",
   "id": "c7cef0ef",
   "metadata": {},
   "source": [
    "                   TypedDict\n"
   ]
  },
  {
   "cell_type": "code",
   "execution_count": 3,
   "id": "92228e34",
   "metadata": {},
   "outputs": [
    {
     "name": "stdout",
     "output_type": "stream",
     "text": [
      "{'sentiment': 'negative', 'summary': \"The hardware is great, but the software feels bloated. There are too many pre-installed apps that I don't use. Also, the UI looks outdated compared to other brands\"}\n",
      "<class 'dict'>\n"
     ]
    }
   ],
   "source": [
    "from typing import TypedDict, Annotated\n",
    "\n",
    "class Review(TypedDict):\n",
    "    summary: Annotated[str, \"A brief summary of the review\"]\n",
    "    sentiment: Annotated[str, \"Return Sentiment of the review either negative, postive or neutral\"]\n",
    "\n",
    "structured_model= model.with_structured_output(Review)\n",
    "\n",
    "\n",
    "result = structured_model.invoke(\"\"\"The hardware is greate, but the software feels bloated. There are too many pre-installed apps that I don't use. Also, the UI looks outdated compared to other brands\"\"\")\n",
    "print(result)\n",
    "\n",
    "print(type(result))\n"
   ]
  },
  {
   "cell_type": "markdown",
   "id": "36cb9afd",
   "metadata": {},
   "source": [
    "using of optionl and Annotated"
   ]
  },
  {
   "cell_type": "code",
   "execution_count": 4,
   "id": "596c9955",
   "metadata": {},
   "outputs": [
    {
     "name": "stdout",
     "output_type": "stream",
     "text": [
      "None\n"
     ]
    }
   ],
   "source": [
    "from typing import TypedDict, Annotated, Optional\n",
    "\n",
    "class Review(TypedDict):\n",
    "    key_theme: Annotated[list[str], \"Write down all the key theme discussed in the review in a list\"]\n",
    "    \n",
    "    summary: Annotated[str, \"A brief summary of the review\"]\n",
    "\n",
    "    sentiment: Annotated[str, \"Return Sentiment of the review either negative, postive or neutral\"]\n",
    "\n",
    "    pros: Annotated[Optional[list[str]], \"Write down all the pros inside a list\"]\n",
    "\n",
    "    cons: Annotated[Optional[list[str]],\"Write down all the cons inside a list\"]\n",
    "\n",
    "structured_model= model.with_structured_output(Review)\n",
    "\n",
    "text= \"\"\" \n",
    "I recently upgraded to the Samsung Galaxy S24 Ultra, and I must say, it’s an absolute powerhouse! The Snapdragon 8 Gen 3 processor makes everything lightning fast—whether I’m gaming, multitasking, or editing photos. The 5000mAh battery easily lasts a full day even with heavy use, and the 45W fast charging is a lifesaver.\n",
    "\n",
    "The S-Pen integration is a great touch for note-taking and quick sketches, though I don't use it often. What really blew me away is the 200MP camera—the night mode is stunning, capturing crisp, vibrant images even in low light. Zooming up to 100x actually works well for distant objects, but anything beyond 30x loses quality.\n",
    "\n",
    "However, the weight and size make it a bit uncomfortable for one-handed use. Also, Samsung’s One UI still comes with bloatware—why do I need five different Samsung apps for things Google already provides? The $1,300 price tag is also a hard pill to swallow.\n",
    "\n",
    "Review by Nitish Singh\n",
    "\"\"\"\n",
    "\n",
    "result = structured_model.invoke(text)\n",
    "\n",
    "print(result)\n"
   ]
  },
  {
   "cell_type": "markdown",
   "id": "111e348a",
   "metadata": {},
   "source": [
    "                            Pydantic"
   ]
  },
  {
   "cell_type": "markdown",
   "id": "4cc27180",
   "metadata": {},
   "source": [
    "how pydantic works\n"
   ]
  },
  {
   "cell_type": "code",
   "execution_count": 5,
   "id": "75aec7ff",
   "metadata": {},
   "outputs": [
    {
     "name": "stdout",
     "output_type": "stream",
     "text": [
      "{\"name\":\"Aman\",\"age\":null,\"cgpa\":8.0}\n",
      "{'name': 'Aman', 'age': None, 'cgpa': 8.0}\n"
     ]
    }
   ],
   "source": [
    "from pydantic import BaseModel, Field\n",
    "from typing import Optional\n",
    "\n",
    "class Student(BaseModel):\n",
    "    name: str= \"Aman\"\n",
    "    age: Optional[int] = None\n",
    "    cgpa : float = Field(gt=0, lt=10, default=5, description=\"A decimal value representing the cgpa of the student\")\n",
    "\n",
    "new_student={'name':'Aman', 'cgpa':8}\n",
    "# new_student={'name':32}\n",
    "student=Student(**new_student)\n",
    "\n",
    "student_dict= dict(student)\n",
    "student_json= student.model_dump_json()\n",
    "print(student_json)\n",
    "\n",
    "print(student_dict)\n"
   ]
  },
  {
   "cell_type": "markdown",
   "id": "7d2abbae",
   "metadata": {},
   "source": [
    "Using with Structure Output"
   ]
  },
  {
   "cell_type": "code",
   "execution_count": 8,
   "id": "04ff6702",
   "metadata": {},
   "outputs": [
    {
     "name": "stdout",
     "output_type": "stream",
     "text": [
      "{'key_themes': ['Processor', 'Battery', 'Camera', 'S-Pen', 'Size and Weight', 'Bloatware', 'Price'], 'summary': 'The Samsung Galaxy S24 Ultra is a powerful phone with a great camera and long battery life, but it is expensive and heavy.', 'sentiment': 'positive', 'pros': ['Fast processor', 'Long battery life', 'Excellent camera', 'Good S-Pen integration'], 'cons': ['Heavy and large', 'Bloatware', 'Expensive']}\n"
     ]
    }
   ],
   "source": [
    "from pydantic import BaseModel, Field\n",
    "\n",
    "class Review(BaseModel):\n",
    "    key_themes: list[str] = Field(description=\"Write down all the themes discussed in the review\")\n",
    "\n",
    "    summary:  str = Field(description=\"Write down the output summary of the review\")\n",
    "\n",
    "    sentiment: str = Field(description=\"return Sentiment of the review either negative, postive or neutral\")\n",
    "\n",
    "    pros: Optional[list[str]]= Field(default=None, description=\"Write down all the pros in the review\")\n",
    "\n",
    "    cons: Optional[list[str]]= Field(default=None, description=\"Write down all the cons in the review\")\n",
    "\n",
    "structured_model= model.with_structured_output(Review)\n",
    "\n",
    "\n",
    "result = structured_model.invoke(\"\"\"\n",
    "I recently upgraded to the Samsung Galaxy S24 Ultra, and I must say, it’s an absolute powerhouse! The Snapdragon 8 Gen 3 processor makes everything lightning fast—whether I’m gaming, multitasking, or editing photos. The 5000mAh battery easily lasts a full day even with heavy use, and the 45W fast charging is a lifesaver.\n",
    "\n",
    "The S-Pen integration is a great touch for note-taking and quick sketches, though I don't use it often. What really blew me away is the 200MP camera—the night mode is stunning, capturing crisp, vibrant images even in low light. Zooming up to 100x actually works well for distant objects, but anything beyond 30x loses quality.\n",
    "\n",
    "However, the weight and size make it a bit uncomfortable for one-handed use. Also, Samsung’s One UI still comes with bloatware—why do I need five different Samsung apps for things Google already provides? The $1,300 price tag is also a hard pill to swallow.\n",
    "\n",
    "Review by Nitish Singh\n",
    "\"\"\")\n",
    "result_dict=dict(result)\n",
    "print(result_dict)\n"
   ]
  },
  {
   "cell_type": "markdown",
   "id": "ad3cd5c3",
   "metadata": {},
   "source": [
    "                           JSON "
   ]
  },
  {
   "cell_type": "code",
   "execution_count": 9,
   "id": "ce668820",
   "metadata": {},
   "outputs": [
    {
     "name": "stderr",
     "output_type": "stream",
     "text": [
      "Key 'parameters' is not supported in schema, ignoring\n"
     ]
    },
    {
     "name": "stdout",
     "output_type": "stream",
     "text": [
      "{'name': 'Nitish Singh', 'sentiment': 'pos', 'pros': 'The Snapdragon 8 Gen 3 processor is very fast. The 5000mAh battery lasts a full day even with heavy use. The 200MP camera is excellent, especially in night mode. The S-Pen integration is a nice touch.', 'cons': 'The phone is heavy and bulky, making it uncomfortable for one-handed use. It also comes with bloatware and has a high price tag.', 'summary': 'A powerful phone with great camera and battery life, but it is expensive and a bit bulky.', 'key_themes': ['Processor', 'Battery', 'Camera', 'S-Pen', 'Size and Weight', 'Bloatware', 'Price']}\n"
     ]
    }
   ],
   "source": [
    "json_schema = {\n",
    "  \"title\": \"Review\",\n",
    "  \"type\": \"object\",\n",
    "  \"properties\": {\n",
    "    \"key_themes\": {\n",
    "      \"type\": \"array\",\n",
    "      \"items\": {\n",
    "        \"type\": \"string\"\n",
    "      },\n",
    "      \"description\": \"Write down all the key themes discussed in the review in a list\"\n",
    "    },\n",
    "    \"summary\": {\n",
    "      \"type\": \"string\",\n",
    "      \"description\": \"A brief summary of the review\"\n",
    "    },\n",
    "    \"sentiment\": {\n",
    "      \"type\": \"string\",\n",
    "      \"enum\": [\"pos\", \"neg\"],\n",
    "      \"description\": \"Return sentiment of the review either negative, positive or neutral\"\n",
    "    },\n",
    "    \"pros\": {\n",
    "      \"type\": [\"array\", \"null\"],\n",
    "      \"items\": {\n",
    "        \"type\": \"string\"\n",
    "      },\n",
    "      \"description\": \"Write down all the pros inside a list\"\n",
    "    },\n",
    "    \"cons\": {\n",
    "      \"type\": [\"array\", \"null\"],\n",
    "      \"items\": {\n",
    "        \"type\": \"string\"\n",
    "      },\n",
    "      \"description\": \"Write down all the cons inside a list\"\n",
    "    },\n",
    "    \"name\": {\n",
    "      \"type\": [\"string\", \"null\"],\n",
    "      \"description\": \"Write the name of the reviewer\"\n",
    "    }\n",
    "  },\n",
    "  \"required\": [\"key_themes\", \"summary\", \"sentiment\"]\n",
    "}\n",
    "structured_model= model.with_structured_output(json_schema)\n",
    "\n",
    "\n",
    "result = structured_model.invoke(\"\"\"\n",
    "I recently upgraded to the Samsung Galaxy S24 Ultra, and I must say, it’s an absolute powerhouse! The Snapdragon 8 Gen 3 processor makes everything lightning fast—whether I’m gaming, multitasking, or editing photos. The 5000mAh battery easily lasts a full day even with heavy use, and the 45W fast charging is a lifesaver.\n",
    "\n",
    "The S-Pen integration is a great touch for note-taking and quick sketches, though I don't use it often. What really blew me away is the 200MP camera—the night mode is stunning, capturing crisp, vibrant images even in low light. Zooming up to 100x actually works well for distant objects, but anything beyond 30x loses quality.\n",
    "\n",
    "However, the weight and size make it a bit uncomfortable for one-handed use. Also, Samsung’s One UI still comes with bloatware—why do I need five different Samsung apps for things Google already provides? The $1,300 price tag is also a hard pill to swallow.\n",
    "\n",
    "Review by Nitish Singh\n",
    "\"\"\")\n",
    "\n",
    "print(result)\n"
   ]
  },
  {
   "cell_type": "code",
   "execution_count": null,
   "id": "8c154eba",
   "metadata": {},
   "outputs": [],
   "source": []
  }
 ],
 "metadata": {
  "kernelspec": {
   "display_name": "Python 3",
   "language": "python",
   "name": "python3"
  },
  "language_info": {
   "codemirror_mode": {
    "name": "ipython",
    "version": 3
   },
   "file_extension": ".py",
   "mimetype": "text/x-python",
   "name": "python",
   "nbconvert_exporter": "python",
   "pygments_lexer": "ipython3",
   "version": "3.12.4"
  }
 },
 "nbformat": 4,
 "nbformat_minor": 5
}
