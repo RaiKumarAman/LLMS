{
 "cells": [
  {
   "cell_type": "code",
   "execution_count": 10,
   "id": "8166cd91",
   "metadata": {},
   "outputs": [],
   "source": [
    "from langchain_huggingface import HuggingFaceEndpoint, ChatHuggingFace\n",
    "from dotenv import load_dotenv\n",
    "\n",
    "load_dotenv()\n",
    "\n",
    "llm=HuggingFaceEndpoint(\n",
    "    repo_id=\"mistralai/Mixtral-8x7B-Instruct-v0.1\",\n",
    "    task=\"text-generation\"\n",
    ")\n",
    "\n",
    "model=ChatHuggingFace(llm=llm)"
   ]
  },
  {
   "cell_type": "code",
   "execution_count": 12,
   "id": "50da15a4",
   "metadata": {},
   "outputs": [],
   "source": [
    "from langchain_google_genai import ChatGoogleGenerativeAI\n",
    "from dotenv import load_dotenv\n",
    "load_dotenv()\n",
    "\n",
    "model=ChatGoogleGenerativeAI(model='gemini-1.5-flash-latest', temperature=0)\n"
   ]
  },
  {
   "cell_type": "code",
   "execution_count": 18,
   "id": "8ffa7483",
   "metadata": {},
   "outputs": [
    {
     "name": "stdout",
     "output_type": "stream",
     "text": [
      "1. Black holes, formed from collapsed massive stars, possess immense gravity warping spacetime, crucial for testing General Relativity and understanding galactic evolution.\n",
      "2.  Several types exist: stellar-mass, supermassive, intermediate-mass (less understood), and hypothetical primordial black holes.\n",
      "3. Key properties include mass, spin, (generally negligible) electric charge, the event horizon (escape boundary), and the singularity (point of infinite density).\n",
      "4. Detection relies on indirect observation: gravitational lensing, accretion disk radiation, and gravitational waves from mergers.\n",
      "5. Ongoing research focuses on formation mechanisms, singularity physics, galactic influence, primordial black hole searches, and improved detection methods.\n"
     ]
    }
   ],
   "source": [
    "from langchain_core.prompts import PromptTemplate\n",
    "\n",
    "template1= PromptTemplate(\n",
    "    template=\"Write a detailed report on {topic}\",\n",
    "    input_variable={'topic'}\n",
    ")\n",
    "\n",
    "template2= PromptTemplate(\n",
    "    template=\"Write a 5 line summary on the following text{topic} and number them\",\n",
    "    input_variable={'topic'}\n",
    ")\n",
    "\n",
    "prompt1=template1.invoke({\"topic\":\"Black Hole\"})\n",
    "result = model.invoke(prompt1)\n",
    "\n",
    "prompt2=template2.invoke({\"topic\":result.content})\n",
    "result2= model.invoke(prompt2)\n",
    "\n",
    "print(result2.content)\n",
    "\n",
    "\n"
   ]
  },
  {
   "cell_type": "markdown",
   "id": "fcc36274",
   "metadata": {},
   "source": [
    "str output Parsers"
   ]
  },
  {
   "cell_type": "code",
   "execution_count": 19,
   "id": "507e47b7",
   "metadata": {},
   "outputs": [
    {
     "name": "stdout",
     "output_type": "stream",
     "text": [
      "1. Black holes are regions of spacetime with immense gravity, preventing even light from escaping beyond their event horizon.\n",
      "2. They form from the gravitational collapse of massive stars, existing in stellar-mass, supermassive, intermediate-mass, and potentially primordial forms.\n",
      "3. Key properties include mass, spin, and the singularity at their center; detection relies on observing their gravitational effects and radiation emissions.\n",
      "4. Current research focuses on supermassive black hole formation, singularity nature, galactic influence, primordial black hole searches, and merger studies.\n",
      "5. Black hole research is crucial for understanding gravity, spacetime, and the universe's evolution, with ongoing discoveries continually expanding our knowledge.\n"
     ]
    }
   ],
   "source": [
    "from langchain_core.prompts import PromptTemplate\n",
    "from langchain_core.output_parsers import StrOutputParser\n",
    "\n",
    "template1= PromptTemplate(\n",
    "    template=\"Write a detailed report on {topic}\",\n",
    "    input_variable={'topic'}\n",
    ")\n",
    "\n",
    "template2= PromptTemplate(\n",
    "    template=\"Write a 5 line summary on the following text {topic} and number them \",\n",
    "    input_variable={'topic'}\n",
    ")\n",
    "\n",
    "parser= StrOutputParser()\n",
    "\n",
    "chain = template1 | model | parser | template2 | model | parser\n",
    "\n",
    "result=chain.invoke({\"topic\":\"Black Hole\"})\n",
    "\n",
    "print(result)"
   ]
  },
  {
   "cell_type": "markdown",
   "id": "8a25a228",
   "metadata": {},
   "source": [
    "JSON Output Parser"
   ]
  },
  {
   "cell_type": "code",
   "execution_count": null,
   "id": "04def8a8",
   "metadata": {},
   "outputs": [
    {
     "name": "stdout",
     "output_type": "stream",
     "text": [
      "Give me the name, age and city of a fictional person\n",
      "Return a JSON object.\n",
      "{'name': 'Evelyn Reed', 'age': 32, 'city': 'Portland, Oregon'}\n"
     ]
    }
   ],
   "source": [
    "from langchain_core.prompts import PromptTemplate\n",
    "from langchain_core.output_parsers import JsonOutputParser\n",
    "\n",
    "json_parser = JsonOutputParser()\n",
    "\n",
    "template = PromptTemplate(\n",
    "    template=\"Give me the name, age and city of a fictional person\\n{format_instruction}\",\n",
    "    input_variables=[],\n",
    "    partial_variables={\"format_instruction\": json_parser.get_format_instructions()}\n",
    ")\n",
    "\n",
    "prompt = template.format()\n",
    "print(prompt)\n",
    "\n",
    "result=model.invoke(prompt)\n",
    "\n",
    "output=json_parser.parse(result.content)\n",
    "\n",
    "\"\"\" Instead of doing the 3 steps we can also use chain\n",
    "chain= template|model|parser\n",
    "result=chain.invoke({})\n",
    "\"\"\"\n",
    "\n",
    "print(output)"
   ]
  },
  {
   "cell_type": "markdown",
   "id": "9c71c4d8",
   "metadata": {},
   "source": [
    "Structured Output Parsers"
   ]
  },
  {
   "cell_type": "code",
   "execution_count": 30,
   "id": "5fea88e7",
   "metadata": {},
   "outputs": [
    {
     "name": "stdout",
     "output_type": "stream",
     "text": [
      "{'fact1': 'Black holes are regions of spacetime where gravity is so strong that nothing, not even light, can escape.', 'fact2': 'Black holes are formed from the remnants of massive stars that have collapsed under their own gravity.', 'fact3': 'The singularity at the center of a black hole is a point of infinite density and zero volume, where the known laws of physics break down.'}\n"
     ]
    }
   ],
   "source": [
    "from langchain_core.prompts import PromptTemplate\n",
    "from langchain.output_parsers import StructuredOutputParser, ResponseSchema\n",
    "\n",
    "schema= [\n",
    "    ResponseSchema(name=\"fact1\", description=\"Fact 1 about the topic\"),\n",
    "    ResponseSchema(name=\"fact2\", description=\"Fact 2 about the topic\"),\n",
    "    ResponseSchema(name=\"fact3\", description=\"Fact 3 about the topic\")\n",
    "\n",
    "]\n",
    "\n",
    "parser= StructuredOutputParser.from_response_schemas(schema)\n",
    "\n",
    "template= PromptTemplate(\n",
    "    template=\"give 3 facts about {topic}\\n{format_instruction}\",\n",
    "    input_variables=[\"topic\"],\n",
    "    partial_variables={'format_instruction': parser.get_format_instructions()}\n",
    ")\n",
    "\n",
    "# prompt= template.invoke({'topic':'BlackHole'})\n",
    "\n",
    "# result= model.invoke(prompt)\n",
    "\n",
    "# final_result=parser.parse(result.content)\n",
    "\n",
    "# print(final_result)\n",
    "\n",
    "chain= template| model| parser \n",
    "result = chain.invoke({\"topic\":\"BlackHole\"})\n",
    "\n",
    "print(result)\n"
   ]
  },
  {
   "cell_type": "markdown",
   "id": "6687cd18",
   "metadata": {},
   "source": [
    "Pydantic Output Parsers"
   ]
  },
  {
   "cell_type": "code",
   "execution_count": 36,
   "id": "01f8e7fb",
   "metadata": {},
   "outputs": [
    {
     "name": "stdout",
     "output_type": "stream",
     "text": [
      "name='Aisha Mohammed' age=28 city='Nairobi'\n",
      "<class '__main__.Person'>\n"
     ]
    }
   ],
   "source": [
    "from langchain_core.prompts import PromptTemplate\n",
    "from langchain_core.output_parsers import PydanticOutputParser\n",
    "from pydantic import BaseModel, Field\n",
    "\n",
    "class Person(BaseModel):\n",
    "    name: str= Field(description=\"Name of the person\")\n",
    "    age: int= Field(gt=18, description=\"Age of the person\")\n",
    "    city: str= Field(description=\"City name where person lives\")\n",
    "\n",
    "parser= PydanticOutputParser(pydantic_object=Person)\n",
    "\n",
    "template= PromptTemplate(\n",
    "    template= \"Generate a name, age and city of a fictional character from {place}\\n {format_instruction}\",\n",
    "\n",
    "    input_variables=[\"place\"],\n",
    "    partial_variables={'format_instruction': parser.get_format_instructions()}\n",
    "\n",
    ")\n",
    "\n",
    "chain = template| model| parser\n",
    "\n",
    "result= chain.invoke({\"place\":\"africa\"})\n",
    "\n",
    "print(result)\n",
    "print(type(result))\n"
   ]
  },
  {
   "cell_type": "markdown",
   "id": "d05595b1",
   "metadata": {},
   "source": []
  },
  {
   "cell_type": "code",
   "execution_count": null,
   "id": "0ccb3e76",
   "metadata": {},
   "outputs": [],
   "source": []
  },
  {
   "cell_type": "code",
   "execution_count": null,
   "id": "b5d8d1a9",
   "metadata": {},
   "outputs": [],
   "source": []
  }
 ],
 "metadata": {
  "kernelspec": {
   "display_name": "Python 3",
   "language": "python",
   "name": "python3"
  },
  "language_info": {
   "codemirror_mode": {
    "name": "ipython",
    "version": 3
   },
   "file_extension": ".py",
   "mimetype": "text/x-python",
   "name": "python",
   "nbconvert_exporter": "python",
   "pygments_lexer": "ipython3",
   "version": "3.12.4"
  }
 },
 "nbformat": 4,
 "nbformat_minor": 5
}
